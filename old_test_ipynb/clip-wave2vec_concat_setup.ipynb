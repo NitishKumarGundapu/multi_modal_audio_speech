{
 "cells": [
  {
   "cell_type": "code",
   "execution_count": 1,
   "metadata": {},
   "outputs": [],
   "source": [
    "import torch as t\n",
    "import torch.nn as nn\n",
    "import torch.nn.functional as F\n",
    "import numpy as np \n",
    "from PIL import Image\n",
    "from torch.utils.data import DataLoader,Dataset,random_split\n",
    "import matplotlib.pyplot as plt\n",
    "from tqdm import tqdm\n",
    "from sklearn.model_selection import train_test_split\n",
    "from timm.data import IMAGENET_DEFAULT_MEAN, IMAGENET_DEFAULT_STD\n",
    "from torchvision.transforms import Compose, Resize, CenterCrop, ToTensor, Normalize\n",
    "from os import listdir\n",
    "from sklearn.model_selection import train_test_split\n",
    "import pandas as pd\n",
    "from os.path import isfile, join"
   ]
  },
  {
   "cell_type": "code",
   "execution_count": 2,
   "metadata": {},
   "outputs": [
    {
     "name": "stderr",
     "output_type": "stream",
     "text": [
      "/raid/amana/miniconda3/envs/lamol/lib/python3.8/site-packages/pydantic/_internal/_config.py:317: UserWarning: Valid config keys have changed in V2:\n",
      "* 'allow_population_by_field_name' has been renamed to 'populate_by_name'\n",
      "* 'validate_all' has been renamed to 'validate_default'\n",
      "  warnings.warn(message, UserWarning)\n",
      "/raid/amana/miniconda3/envs/lamol/lib/python3.8/site-packages/pydantic/_internal/_fields.py:128: UserWarning: Field \"model_persistence_threshold\" has conflict with protected namespace \"model_\".\n",
      "\n",
      "You may be able to resolve this warning by setting `model_config['protected_namespaces'] = ()`.\n",
      "  warnings.warn(\n",
      "/raid/amana/miniconda3/envs/lamol/lib/python3.8/site-packages/pydantic/_internal/_config.py:317: UserWarning: Valid config keys have changed in V2:\n",
      "* 'validate_all' has been renamed to 'validate_default'\n",
      "  warnings.warn(message, UserWarning)\n"
     ]
    }
   ],
   "source": [
    "from PIL import Image\n",
    "import requests\n",
    "from transformers import AutoProcessor, CLIPVisionModel\n",
    "\n",
    "import warnings\n",
    "warnings.filterwarnings(\"ignore\")\n",
    "t.cuda.set_device(8)\n",
    "device = t.device('cuda' if t.cuda.is_available() else 'cpu')"
   ]
  },
  {
   "cell_type": "code",
   "execution_count": 7,
   "metadata": {},
   "outputs": [],
   "source": [
    "audio_train_loader = t.load(\"/raid/amana/lavish_multi_model/emotion_detection/wave2_vec_diff_classfi_data_train_dataset.pth\")\n",
    "audio_test_loader = t.load(\"/raid/amana/lavish_multi_model/emotion_detection/wave2_vec_diff_classfi_data_test_dataset.pth\")"
   ]
  },
  {
   "cell_type": "code",
   "execution_count": 32,
   "metadata": {},
   "outputs": [],
   "source": [
    "image_dataset = np.load(\"/raid/amana/lavish_multi_model/emotion_detection/dataset_clip_image_vectors1.npy\",allow_pickle=True)"
   ]
  },
  {
   "cell_type": "code",
   "execution_count": 33,
   "metadata": {},
   "outputs": [],
   "source": [
    "Xtrain,Xtest,Ytrain,Ytest = train_test_split(image_dataset[:,0],image_dataset[:,1],test_size=0.2)"
   ]
  },
  {
   "cell_type": "code",
   "execution_count": 9,
   "metadata": {},
   "outputs": [],
   "source": [
    "train_size = int(0.8 * len(image_dataset))\n",
    "test_size = len(image_dataset) - train_size\n",
    "\n",
    "train_dataset, test_dataset = random_split(image_dataset, [train_size, test_size])\n",
    "\n",
    "image_train_dataloader = DataLoader(train_dataset, batch_size=1, shuffle=True)\n",
    "image_test_dataloader = DataLoader(test_dataset, batch_size=1,shuffle=False)"
   ]
  },
  {
   "cell_type": "code",
   "execution_count": 41,
   "metadata": {},
   "outputs": [],
   "source": [
    "class EmotionMLP(nn.Module):\n",
    "    def softmax(self,x):\n",
    "        e_x = t.exp(x - t.max(x))\n",
    "        return e_x / e_x.sum()\n",
    "    \n",
    "    def __init__(self, num_classes):\n",
    "        super(EmotionMLP, self).__init__()\n",
    "        self.input_matrix = nn.Parameter(t.rand(49,1))\n",
    "        self.fc0 = nn.Linear(768,512)\n",
    "        self.fc1 = nn.Linear(512,64)\n",
    "        self.fc2 = nn.Linear(64, num_classes)\n",
    "\n",
    "    def concat(self,x1,x2):\n",
    "        return x1+x2\n",
    "    \n",
    "    def forward(self, x1,x2):\n",
    "        #image\n",
    "        x1 = t.matmul(x1.t(),self.input_matrix)\n",
    "        x1 = x1.view(-1, 512)\n",
    "        \n",
    "        #audio\n",
    "        x2 = t.relu(self.fc0(x2))\n",
    "        x2 = x2.view(-1, 512)\n",
    "        \n",
    "        #concat\n",
    "        x = self.concat(x1,x2)\n",
    "        x = t.relu(self.fc1(x))\n",
    "        x = t.relu(self.fc2(x))\n",
    "        x = t.sigmoid(x)\n",
    "        return x"
   ]
  },
  {
   "cell_type": "code",
   "execution_count": 42,
   "metadata": {},
   "outputs": [
    {
     "data": {
      "text/plain": [
       "torch.Size([1, 7])"
      ]
     },
     "execution_count": 42,
     "metadata": {},
     "output_type": "execute_result"
    }
   ],
   "source": [
    "num_classes = 7\n",
    "model = EmotionMLP(num_classes).to(device)\n",
    "\n",
    "x1 = t.rand(49,512)\n",
    "x2 = t.rand(768)\n",
    "model(x1.to(device),x2.to(device)).shape"
   ]
  },
  {
   "cell_type": "code",
   "execution_count": 53,
   "metadata": {},
   "outputs": [],
   "source": [
    "num_classes = 7\n",
    "model = EmotionMLP(num_classes).to(device)\n",
    "\n",
    "criterion = nn.CrossEntropyLoss()\n",
    "optimizer = t.optim.Adam(model.parameters(), lr=0.0001)"
   ]
  },
  {
   "cell_type": "code",
   "execution_count": 54,
   "metadata": {},
   "outputs": [
    {
     "name": "stderr",
     "output_type": "stream",
     "text": [
      "  3%|▎         | 1/30 [00:06<03:21,  6.96s/it]"
     ]
    },
    {
     "name": "stdout",
     "output_type": "stream",
     "text": [
      "Epoch 1/30, Training Loss: 1.8325842082909642\n"
     ]
    },
    {
     "name": "stderr",
     "output_type": "stream",
     "text": [
      " 37%|███▋      | 11/30 [01:16<02:13,  7.01s/it]"
     ]
    },
    {
     "name": "stdout",
     "output_type": "stream",
     "text": [
      "Epoch 11/30, Training Loss: 1.7860873978525331\n"
     ]
    },
    {
     "name": "stderr",
     "output_type": "stream",
     "text": [
      " 70%|███████   | 21/30 [02:25<01:02,  6.96s/it]"
     ]
    },
    {
     "name": "stdout",
     "output_type": "stream",
     "text": [
      "Epoch 21/30, Training Loss: 1.7702725535126518\n"
     ]
    },
    {
     "name": "stderr",
     "output_type": "stream",
     "text": [
      "100%|██████████| 30/30 [03:30<00:00,  7.03s/it]\n"
     ]
    }
   ],
   "source": [
    "def train(model,audio_loader,Xtrain,optimizer,criterion,num_epochs,device):\n",
    "    loss_arr = []\n",
    "    for epoch in tqdm(range(num_epochs)):\n",
    "        # model.train()\n",
    "        total_loss = 0\n",
    "        for i,(x,y) in enumerate(audio_loader):\n",
    "            # Forward pass\n",
    "            image_input = t.tensor(Xtrain[i][0])\n",
    "            outputs = model(x.to(device),image_input.to(device))\n",
    "            loss = criterion(outputs,t.tensor([y]).to(device)).to(device)\n",
    "\n",
    "            # Backward pass and optimization\n",
    "            optimizer.zero_grad()\n",
    "            loss.backward()\n",
    "            optimizer.step()\n",
    "            total_loss += loss.item()\n",
    "        loss_arr.append(total_loss/len(audio_loader))\n",
    "        if epoch%10 == 0:\n",
    "            print(f'Epoch {epoch+1}/{num_epochs}, Training Loss: {total_loss/len(audio_loader)}')\n",
    "    return loss_arr\n",
    "\n",
    "num_epochs = 30\n",
    "lossarr = train(model,audio_train_loader,Xtrain,optimizer,criterion,num_epochs,device)"
   ]
  },
  {
   "cell_type": "code",
   "execution_count": 55,
   "metadata": {},
   "outputs": [
    {
     "data": {
      "text/plain": [
       "[<matplotlib.lines.Line2D at 0x7f325c3b23d0>]"
      ]
     },
     "execution_count": 55,
     "metadata": {},
     "output_type": "execute_result"
    },
    {
     "data": {
      "image/png": "[encoded data removed]",
      "text/plain": [
       "<Figure size 640x480 with 1 Axes>"
      ]
     },
     "metadata": {},
     "output_type": "display_data"
    }
   ],
   "source": [
    "plt.plot(range(30),lossarr)"
   ]
  },
  {
   "cell_type": "code",
   "execution_count": 58,
   "metadata": {},
   "outputs": [
    {
     "name": "stdout",
     "output_type": "stream",
     "text": [
      "accuracy: 45.20183563232422\n"
     ]
    }
   ],
   "source": [
    "def test(model,test_loader,Xtest,device):\n",
    "    \n",
    "    def accuracy1(y_true, y_pred):\n",
    "        eq = t.eq(y_true, y_pred).int()\n",
    "        return sum(eq)/len(eq)\n",
    "    \n",
    "    acc = 0\n",
    "    with t.no_grad():\n",
    "        model.eval()\n",
    "        for i,(x,y) in enumerate(test_loader):\n",
    "            image_input = t.tensor(Xtest[i][0])\n",
    "            outputs = model(x.to(device),image_input.to(device))\n",
    "            outputs1 = outputs.detach().cpu()\n",
    "            outputs2 = t.argmax(outputs1, dim=1)\n",
    "            acc += accuracy1(t.tensor([y]),outputs2)\n",
    "        print(f\"accuracy: {((acc/len(test_loader))*100)}\")\n",
    "        \n",
    "test(model,audio_test_loader,Xtest,device)"
   ]
  }
 ],
 "metadata": {
  "kernelspec": {
   "display_name": "lamol",
   "language": "python",
   "name": "python3"
  },
  "language_info": {
   "codemirror_mode": {
    "name": "ipython",
    "version": 3
   },
   "file_extension": ".py",
   "mimetype": "text/x-python",
   "name": "python",
   "nbconvert_exporter": "python",
   "pygments_lexer": "ipython3",
   "version": "3.8.16"
  }
 },
 "nbformat": 4,
 "nbformat_minor": 2
}
