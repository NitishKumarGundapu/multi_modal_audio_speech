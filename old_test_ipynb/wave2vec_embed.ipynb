{
 "cells": [
  {
   "cell_type": "code",
   "execution_count": 1,
   "metadata": {},
   "outputs": [],
   "source": [
    "import torch as t\n",
    "import torch.nn as nn\n",
    "import torch.nn.functional as F\n",
    "import numpy as np \n",
    "from torch.utils.data import DataLoader,Dataset,random_split\n",
    "import matplotlib.pyplot as plt\n",
    "from tqdm import tqdm\n",
    "from sklearn.model_selection import train_test_split"
   ]
  },
  {
   "cell_type": "code",
   "execution_count": 2,
   "metadata": {},
   "outputs": [],
   "source": [
    "audio_dir = \"/raid/amana/lavish_multi_model/emotion_detection/data/raw_audio\""
   ]
  },
  {
   "cell_type": "code",
   "execution_count": 3,
   "metadata": {},
   "outputs": [],
   "source": [
    "import numpy as np \n",
    "import soundfile as sf\n",
    "import librosa\n",
    "\n",
    "def getVggoud_proc(filename):\n",
    "    audio_length = 1.5\n",
    "    idx=0\n",
    "    samples, samplerate = librosa.load(filename)\n",
    "\n",
    "    if samples.shape[0] > 16000*(audio_length+0.1):\n",
    "        sample_indx = np.linspace(0, samples.shape[0]-16000*(audio_length+0.1), num=1, dtype=int)\n",
    "        samples = samples[sample_indx[idx]:sample_indx[idx]+int(16000*audio_length)]\n",
    "    else:\n",
    "        samples = np.tile(samples,int(audio_length))[:int(16000*audio_length)]\n",
    "\n",
    "    samples[samples > 1.] = 1\n",
    "    samples[samples < -1.] = -1\n",
    "    \n",
    "    return samples\n",
    "\n",
    "def resample_audio(arr,sr):\n",
    "    return librosa.util.fix_length(arr, size=sr)"
   ]
  },
  {
   "cell_type": "code",
   "execution_count": 4,
   "metadata": {},
   "outputs": [],
   "source": [
    "from os import listdir\n",
    "from os.path import isfile, join\n",
    "import pandas as pd\n",
    "\n",
    "def get_dataset(audio_dir):\n",
    "    data = pd.read_csv(\"/raid/amana/lavish_multi_model/emotion_detection/data/text_data.csv\")\n",
    "    data['filename'] = [f'dia{a}_utt{b}' for a,b in zip(data['Dialogue_ID'],data['Utterance_ID'])]\n",
    "    labels = list(data['Emotion'])\n",
    "    onlyfiles = [f for f in listdir(audio_dir) if isfile(join(audio_dir, f))]\n",
    "    res = []\n",
    "    shapes = []\n",
    "    for a,label in zip(onlyfiles,labels):\n",
    "        res1 = getVggoud_proc(audio_dir+\"/\"+a)\n",
    "        shapes.append(res1.shape)\n",
    "        res.append([res1,label])\n",
    "    shapes = np.array(shapes)\n",
    "    true_shapes = shapes>5000\n",
    "    res = [a for a,b in zip(res,true_shapes) if b[0] == True]\n",
    "    final_len = int(np.mean(shapes))\n",
    "    final_dataset = [[resample_audio(a[0],final_len),a[1]] for a in res]\n",
    "    return final_dataset\n",
    "\n",
    "\n",
    "def get_dataset_2(audio_dir):\n",
    "    data = pd.read_csv(\"/raid/amana/lavish_multi_model/emotion_detection/data/text_data.csv\")\n",
    "    data['filename'] = [f'dia{a}_utt{b}' for a,b in zip(data['Dialogue_ID'],data['Utterance_ID'])]\n",
    "    labels = list(data['Emotion'])\n",
    "    onlyfiles = [f for f in listdir(audio_dir) if isfile(join(audio_dir, f))]\n",
    "    res = []\n",
    "    shapes = []\n",
    "    for a,label in zip(onlyfiles,labels):\n",
    "        res1 = getVggoud_proc(audio_dir+\"/\"+a)\n",
    "        shapes.append(res1.shape)\n",
    "        res.append([res1,label])\n",
    "    shapes = np.array(shapes)\n",
    "    true_shapes = shapes>5000\n",
    "    res = [a for a,b in zip(res,true_shapes) if b[0] == True]\n",
    "    final_len = 16000\n",
    "    final_dataset = [[resample_audio(a[0],final_len),a[1]] for a in res]\n",
    "    return final_dataset"
   ]
  },
  {
   "cell_type": "code",
   "execution_count": 5,
   "metadata": {},
   "outputs": [],
   "source": [
    "dataset = get_dataset_2(audio_dir)"
   ]
  },
  {
   "cell_type": "markdown",
   "metadata": {},
   "source": [
    "## getting audio embeddings\n"
   ]
  },
  {
   "cell_type": "code",
   "execution_count": 3,
   "metadata": {},
   "outputs": [],
   "source": [
    "# from transformers import AutoProcessor, Wav2Vec2Model\n",
    "import torch as t\n",
    "import numpy as np\n",
    "t.cuda.set_device(8)\n",
    "\n"
   ]
  },
  {
   "cell_type": "code",
   "execution_count": 4,
   "metadata": {},
   "outputs": [],
   "source": [
    "import warnings\n",
    "warnings.filterwarnings(\"ignore\")\n",
    "device = t.device('cuda' if t.cuda.is_available() else 'cpu')"
   ]
  },
  {
   "cell_type": "code",
   "execution_count": 10,
   "metadata": {},
   "outputs": [
    {
     "name": "stderr",
     "output_type": "stream",
     "text": [
      "Some weights of the model checkpoint at facebook/wav2vec2-base-960h were not used when initializing Wav2Vec2Model: ['lm_head.bias', 'lm_head.weight']\n",
      "- This IS expected if you are initializing Wav2Vec2Model from the checkpoint of a model trained on another task or with another architecture (e.g. initializing a BertForSequenceClassification model from a BertForPreTraining model).\n",
      "- This IS NOT expected if you are initializing Wav2Vec2Model from the checkpoint of a model that you expect to be exactly identical (initializing a BertForSequenceClassification model from a BertForSequenceClassification model).\n",
      "Some weights of Wav2Vec2Model were not initialized from the model checkpoint at facebook/wav2vec2-base-960h and are newly initialized: ['wav2vec2.masked_spec_embed']\n",
      "You should probably TRAIN this model on a down-stream task to be able to use it for predictions and inference.\n"
     ]
    }
   ],
   "source": [
    "from transformers import AutoProcessor, Wav2Vec2Model\n",
    "\n",
    "processor = AutoProcessor.from_pretrained(\"facebook/wav2vec2-base-960h\")\n",
    "model = Wav2Vec2Model.from_pretrained(\"facebook/wav2vec2-base-960h\").to(device)"
   ]
  },
  {
   "cell_type": "code",
   "execution_count": 5,
   "metadata": {},
   "outputs": [],
   "source": [
    "emotion_label = {'anger' : 1, 'disgust' : 2, 'fear' : 3,\n",
    "                 'joy' : 4, 'neutral' : 5, 'sadness' : 6, 'surprise' : 0}"
   ]
  },
  {
   "cell_type": "code",
   "execution_count": 12,
   "metadata": {},
   "outputs": [
    {
     "name": "stderr",
     "output_type": "stream",
     "text": [
      "2024-01-03 22:16:38.335513: I tensorflow/core/platform/cpu_feature_guard.cc:182] This TensorFlow binary is optimized to use available CPU instructions in performance-critical operations.\n",
      "To enable the following instructions: AVX2 AVX512F FMA, in other operations, rebuild TensorFlow with the appropriate compiler flags.\n",
      "2024-01-03 22:16:40.421249: W tensorflow/compiler/tf2tensorrt/utils/py_utils.cc:38] TF-TRT Warning: Could not find TensorRT\n"
     ]
    }
   ],
   "source": [
    "def get_final_dataset(dataset):\n",
    "    final_dataset = []\n",
    "    for a in dataset:\n",
    "        inputs = processor(a[0], sampling_rate=16000, return_tensors=\"pt\").to(device)\n",
    "        with t.no_grad():\n",
    "            outputs = model(**inputs).extract_features\n",
    "            final_dataset.append([outputs.squeeze(0),emotion_label[a[1]]])\n",
    "            \n"
   ]
  },
  {
   "cell_type": "code",
   "execution_count": null,
   "metadata": {},
   "outputs": [],
   "source": []
  },
  {
   "cell_type": "markdown",
   "metadata": {},
   "source": [
    "## Defining model"
   ]
  },
  {
   "cell_type": "code",
   "execution_count": 6,
   "metadata": {},
   "outputs": [],
   "source": [
    "def test(model,test_loader,device):\n",
    "    \n",
    "    def accuracy(y_true, y_pred):\n",
    "        eq = t.eq(y_true, y_pred).int()\n",
    "        return sum(eq)/len(eq)\n",
    "\n",
    "    with t.no_grad():\n",
    "        model.eval()\n",
    "        for inputs,labels in test_loader:\n",
    "            outputs = model(inputs.to(device))\n",
    "            outputs1 = outputs.detach().cpu()\n",
    "            acc += accuracy(labels,outputs1)\n",
    "        print(f\"accuracy: {(acc/len(test_loader))*100: 0.2f}%\")"
   ]
  },
  {
   "cell_type": "code",
   "execution_count": 18,
   "metadata": {},
   "outputs": [],
   "source": [
    "train_size = int(0.85 * len(dataset))\n",
    "test_size = len(dataset) - train_size\n",
    "\n",
    "train_dataset, test_dataset = random_split(final_dataset, [train_size, test_size])\n",
    "\n",
    "train_dataloader = DataLoader(train_dataset, batch_size=1, shuffle=True)\n",
    "test_dataloader = DataLoader(test_dataset, batch_size=1,shuffle=False)"
   ]
  },
  {
   "cell_type": "code",
   "execution_count": 16,
   "metadata": {},
   "outputs": [],
   "source": [
    "t.save(train_dataloader.dataset, 'train_dataset.pth')\n",
    "\n",
    "# Save the testing DataLoader\n",
    "t.save(test_dataloader.dataset, 'test_dataset.pth')\n"
   ]
  },
  {
   "cell_type": "code",
   "execution_count": 7,
   "metadata": {},
   "outputs": [],
   "source": [
    "train_dataloader = t.load(\"train_dataset.pth\")\n",
    "test_dataloader = t.load(\"test_dataset.pth\")"
   ]
  },
  {
   "cell_type": "code",
   "execution_count": 12,
   "metadata": {},
   "outputs": [],
   "source": [
    "# class EmotionCNN(nn.Module):\n",
    "#     def softmax(self,x):\n",
    "#         e_x = t.exp(x - t.max(x))\n",
    "#         return e_x / e_x.sum()\n",
    "    \n",
    "#     def __init__(self, num_classes):\n",
    "#         super(EmotionCNN, self).__init__()\n",
    "#         self.conv1 = nn.Conv2d(1, 32, kernel_size=(4, 4), stride=(1, 1), padding=(1, 1))\n",
    "#         self.conv2 = nn.Conv2d(32, 64, kernel_size=(4, 4), stride=(1, 1), padding=(1, 1))\n",
    "#         self.conv3 = nn.Conv2d(64, 128, kernel_size=(4, 4), stride=(1, 1), padding=(1, 1))\n",
    "#         self.conv4 = nn.Conv2d(128, 256, kernel_size=(4, 4), stride=(1, 1), padding=(1, 1))\n",
    "#         self.conv5 = nn.Conv2d(256, 512, kernel_size=(3, 3), stride=(1, 1), padding=(1, 1))\n",
    "#         self.pool = nn.MaxPool2d(kernel_size=(2, 2), stride=(2, 2))\n",
    "#         self.fc1 = nn.Linear(512,256)\n",
    "#         self.fc2 = nn.Linear(256,128)\n",
    "#         self.fc3 = nn.Linear(128,64)\n",
    "#         self.fc4 = nn.Linear(64, num_classes)\n",
    "\n",
    "#     def conv_output(self,x):\n",
    "#         x = self.pool(t.relu(self.conv1(x)))\n",
    "#         x = self.pool(t.relu(self.conv2(x)))\n",
    "#         x = self.pool(t.relu(self.conv3(x)))\n",
    "#         x = self.pool(t.relu(self.conv4(x)))\n",
    "#         x = self.pool(t.relu(self.conv5(x)))\n",
    "#         x = F.adaptive_avg_pool2d(x,(1,1))\n",
    "#         return x\n",
    "    \n",
    "#     def forward(self, x):\n",
    "#         x = self.pool(t.relu(self.conv1(x)))\n",
    "#         x = self.pool(t.relu(self.conv2(x)))\n",
    "#         x = self.pool(t.relu(self.conv3(x)))\n",
    "#         x = self.pool(t.relu(self.conv4(x)))\n",
    "#         x = self.pool(t.relu(self.conv5(x)))\n",
    "#         x = F.adaptive_avg_pool2d(x,(1,1))\n",
    "#         x = x.view(-1, 512)\n",
    "#         x = t.relu(self.fc1(x))\n",
    "#         x = t.relu(self.fc2(x))\n",
    "#         x = t.relu(self.fc3(x))\n",
    "#         x = t.relu(self.fc4(x))\n",
    "#         return x\n",
    "    \n",
    "class EmotionMLP(nn.Module):\n",
    "    def softmax(self,x):\n",
    "        e_x = t.exp(x - t.max(x))\n",
    "        return e_x / e_x.sum()\n",
    "    \n",
    "    def __init__(self, num_classes):\n",
    "        super(EmotionMLP, self).__init__()\n",
    "        self.input_matrix = nn.Parameter(t.rand(71,1))\n",
    "        self.fc1 = nn.Linear(512,64)\n",
    "        self.fc2 = nn.Linear(64, num_classes)\n",
    "\n",
    "    \n",
    "    def forward(self, x):\n",
    "        x = t.matmul(x.t(),self.input_matrix)\n",
    "        x = x.view(-1, 512)\n",
    "        x = t.relu(self.fc1(x))\n",
    "        x = t.relu(self.fc2(x))\n",
    "        x = t.sigmoid(x)\n",
    "        return x"
   ]
  },
  {
   "cell_type": "code",
   "execution_count": 13,
   "metadata": {},
   "outputs": [
    {
     "data": {
      "text/plain": [
       "torch.Size([1, 7])"
      ]
     },
     "execution_count": 13,
     "metadata": {},
     "output_type": "execute_result"
    }
   ],
   "source": [
    "num_classes = 7\n",
    "model = EmotionMLP(num_classes).to(device)\n",
    "\n",
    "x = t.rand(71,512)\n",
    "model(x.to(device)).shape"
   ]
  },
  {
   "cell_type": "code",
   "execution_count": 14,
   "metadata": {},
   "outputs": [],
   "source": [
    "num_classes = 7\n",
    "model = EmotionMLP(num_classes).to(device)\n",
    "\n",
    "criterion = nn.CrossEntropyLoss()\n",
    "optimizer = t.optim.Adam(model.parameters(), lr=0.0001)"
   ]
  },
  {
   "cell_type": "code",
   "execution_count": 15,
   "metadata": {},
   "outputs": [
    {
     "name": "stderr",
     "output_type": "stream",
     "text": [
      "  1%|          | 1/150 [00:07<18:45,  7.55s/it]"
     ]
    },
    {
     "name": "stdout",
     "output_type": "stream",
     "text": [
      "Epoch 1/150, Training Loss: 1.8298888132056328\n"
     ]
    },
    {
     "name": "stderr",
     "output_type": "stream",
     "text": [
      "  7%|▋         | 11/150 [01:19<17:15,  7.45s/it]"
     ]
    },
    {
     "name": "stdout",
     "output_type": "stream",
     "text": [
      "Epoch 11/150, Training Loss: 1.8240977129202227\n"
     ]
    },
    {
     "name": "stderr",
     "output_type": "stream",
     "text": [
      " 14%|█▍        | 21/150 [02:38<16:38,  7.74s/it]"
     ]
    },
    {
     "name": "stdout",
     "output_type": "stream",
     "text": [
      "Epoch 21/150, Training Loss: 1.8233445853283639\n"
     ]
    },
    {
     "name": "stderr",
     "output_type": "stream",
     "text": [
      " 21%|██        | 31/150 [04:03<17:10,  8.66s/it]"
     ]
    },
    {
     "name": "stdout",
     "output_type": "stream",
     "text": [
      "Epoch 31/150, Training Loss: 1.8236466202207222\n"
     ]
    },
    {
     "name": "stderr",
     "output_type": "stream",
     "text": [
      " 27%|██▋       | 41/150 [05:28<15:01,  8.27s/it]"
     ]
    },
    {
     "name": "stdout",
     "output_type": "stream",
     "text": [
      "Epoch 41/150, Training Loss: 1.8231961384527906\n"
     ]
    },
    {
     "name": "stderr",
     "output_type": "stream",
     "text": [
      " 34%|███▍      | 51/150 [06:50<12:37,  7.66s/it]"
     ]
    },
    {
     "name": "stdout",
     "output_type": "stream",
     "text": [
      "Epoch 51/150, Training Loss: 1.8232704889915474\n"
     ]
    },
    {
     "name": "stderr",
     "output_type": "stream",
     "text": [
      " 41%|████      | 61/150 [08:15<12:44,  8.59s/it]"
     ]
    },
    {
     "name": "stdout",
     "output_type": "stream",
     "text": [
      "Epoch 61/150, Training Loss: 1.8216890065867626\n"
     ]
    },
    {
     "name": "stderr",
     "output_type": "stream",
     "text": [
      " 47%|████▋     | 71/150 [09:43<11:06,  8.44s/it]"
     ]
    },
    {
     "name": "stdout",
     "output_type": "stream",
     "text": [
      "Epoch 71/150, Training Loss: 1.821282796248938\n"
     ]
    },
    {
     "name": "stderr",
     "output_type": "stream",
     "text": [
      " 54%|█████▍    | 81/150 [11:05<08:59,  7.82s/it]"
     ]
    },
    {
     "name": "stdout",
     "output_type": "stream",
     "text": [
      "Epoch 81/150, Training Loss: 1.8206737636878236\n"
     ]
    },
    {
     "name": "stderr",
     "output_type": "stream",
     "text": [
      " 61%|██████    | 91/150 [12:32<08:38,  8.79s/it]"
     ]
    },
    {
     "name": "stdout",
     "output_type": "stream",
     "text": [
      "Epoch 91/150, Training Loss: 1.8205802249446494\n"
     ]
    },
    {
     "name": "stderr",
     "output_type": "stream",
     "text": [
      " 67%|██████▋   | 101/150 [14:05<07:33,  9.25s/it]"
     ]
    },
    {
     "name": "stdout",
     "output_type": "stream",
     "text": [
      "Epoch 101/150, Training Loss: 1.8187515271107784\n"
     ]
    },
    {
     "name": "stderr",
     "output_type": "stream",
     "text": [
      " 74%|███████▍  | 111/150 [15:24<04:43,  7.27s/it]"
     ]
    },
    {
     "name": "stdout",
     "output_type": "stream",
     "text": [
      "Epoch 111/150, Training Loss: 1.8179409355085556\n"
     ]
    },
    {
     "name": "stderr",
     "output_type": "stream",
     "text": [
      " 81%|████████  | 121/150 [16:36<03:10,  6.58s/it]"
     ]
    },
    {
     "name": "stdout",
     "output_type": "stream",
     "text": [
      "Epoch 121/150, Training Loss: 1.816842869613861\n"
     ]
    },
    {
     "name": "stderr",
     "output_type": "stream",
     "text": [
      " 87%|████████▋ | 131/150 [17:55<02:49,  8.93s/it]"
     ]
    },
    {
     "name": "stdout",
     "output_type": "stream",
     "text": [
      "Epoch 131/150, Training Loss: 1.816568223857777\n"
     ]
    },
    {
     "name": "stderr",
     "output_type": "stream",
     "text": [
      " 94%|█████████▍| 141/150 [19:18<01:11,  7.97s/it]"
     ]
    },
    {
     "name": "stdout",
     "output_type": "stream",
     "text": [
      "Epoch 141/150, Training Loss: 1.815521664332009\n"
     ]
    },
    {
     "name": "stderr",
     "output_type": "stream",
     "text": [
      "100%|██████████| 150/150 [20:25<00:00,  8.17s/it]\n"
     ]
    }
   ],
   "source": [
    "def train(model,train_loader,optimizer,criterion,num_epochs,device):\n",
    "    loss_arr = []\n",
    "    for epoch in tqdm(range(num_epochs)):\n",
    "        # model.train()\n",
    "        total_loss = 0\n",
    "        for x,y in train_loader:\n",
    "            x = x.squeeze(0)\n",
    "            # Forward pass\n",
    "            outputs = model(x.to(device))\n",
    "            loss = criterion(outputs,t.tensor([y]).to(device)).to(device)\n",
    "\n",
    "            # Backward pass and optimization\n",
    "            optimizer.zero_grad()\n",
    "            loss.backward()\n",
    "            optimizer.step()\n",
    "            total_loss += loss.item()\n",
    "        loss_arr.append(total_loss/len(train_loader))\n",
    "        if epoch%10 == 0:\n",
    "            print(f'Epoch {epoch+1}/{num_epochs}, Training Loss: {total_loss/len(train_loader)}')\n",
    "    return loss_arr\n",
    "\n",
    "num_epochs = 150\n",
    "lossarr = train(model,train_dataloader,optimizer,criterion,num_epochs,device)"
   ]
  },
  {
   "cell_type": "code",
   "execution_count": 16,
   "metadata": {},
   "outputs": [
    {
     "data": {
      "text/plain": [
       "[<matplotlib.lines.Line2D at 0x7fd428322e80>]"
      ]
     },
     "execution_count": 16,
     "metadata": {},
     "output_type": "execute_result"
    },
    {
     "data": {
      "image/png": "[encoded data removed]",
      "text/plain": [
       "<Figure size 640x480 with 1 Axes>"
      ]
     },
     "metadata": {},
     "output_type": "display_data"
    }
   ],
   "source": [
    "plt.plot(range(150),lossarr)"
   ]
  },
  {
   "cell_type": "code",
   "execution_count": 21,
   "metadata": {},
   "outputs": [
    {
     "name": "stdout",
     "output_type": "stream",
     "text": [
      "accuracy: 44.09268264770508\n"
     ]
    }
   ],
   "source": [
    "def test(model,test_loader,device):\n",
    "    \n",
    "    def accuracy1(y_true, y_pred):\n",
    "        eq = t.eq(y_true, y_pred).int()\n",
    "        return sum(eq)/len(eq)\n",
    "    \n",
    "    acc = 0\n",
    "    with t.no_grad():\n",
    "        model.eval()\n",
    "        for x,y in test_loader:\n",
    "            x = x.squeeze(0)\n",
    "            outputs = model(x.to(device))\n",
    "            outputs1 = outputs.detach().cpu()\n",
    "            outputs2 = t.argmax(outputs1, dim=1)\n",
    "            acc += accuracy1(t.tensor([y]),outputs2)\n",
    "        print(f\"accuracy: {((acc/len(test_loader))*100)}\")\n",
    "        \n",
    "test(model,test_dataloader,device)"
   ]
  },
  {
   "cell_type": "code",
   "execution_count": null,
   "metadata": {},
   "outputs": [],
   "source": []
  },
  {
   "cell_type": "markdown",
   "metadata": {},
   "source": []
  }
 ],
 "metadata": {
  "kernelspec": {
   "display_name": "lamol",
   "language": "python",
   "name": "python3"
  },
  "language_info": {
   "codemirror_mode": {
    "name": "ipython",
    "version": 3
   },
   "file_extension": ".py",
   "mimetype": "text/x-python",
   "name": "python",
   "nbconvert_exporter": "python",
   "pygments_lexer": "ipython3",
   "version": "3.8.16"
  }
 },
 "nbformat": 4,
 "nbformat_minor": 2
}
