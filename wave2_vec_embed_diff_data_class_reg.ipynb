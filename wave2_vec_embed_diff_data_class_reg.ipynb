{
 "cells": [
  {
   "cell_type": "code",
   "execution_count": 248,
   "metadata": {},
   "outputs": [],
   "source": [
    "import numpy as np\n",
    "import pandas as pd\n",
    "import os\n",
    "\n",
    "from pathlib import Path\n",
    "from tqdm import tqdm\n",
    "\n",
    "import torchaudio\n",
    "from sklearn.model_selection import train_test_split"
   ]
  },
  {
   "cell_type": "code",
   "execution_count": 249,
   "metadata": {},
   "outputs": [],
   "source": [
    "import torch as t\n",
    "import torch.nn as nn\n",
    "import torch.nn.functional as F\n",
    "import numpy as np \n",
    "from torch.utils.data import DataLoader,Dataset,random_split\n",
    "import matplotlib.pyplot as plt\n",
    "from tqdm import tqdm\n",
    "from sklearn.model_selection import train_test_split"
   ]
  },
  {
   "cell_type": "code",
   "execution_count": 250,
   "metadata": {},
   "outputs": [],
   "source": [
    "# from transformers import AutoProcessor, Wav2Vec2Model\n",
    "import torch as t\n",
    "import numpy as np\n",
    "t.cuda.set_device(8)\n",
    "\n",
    "import warnings\n",
    "warnings.filterwarnings(\"ignore\")\n",
    "device = t.device('cuda' if t.cuda.is_available() else 'cpu')"
   ]
  },
  {
   "cell_type": "code",
   "execution_count": 251,
   "metadata": {},
   "outputs": [],
   "source": [
    "audio_dir = \"/raid/amana/lavish_multi_model/emotion_detection/data/raw_audio/\"\n",
    "base_path = \"/raid/amana/lavish_multi_model/emotion_detection/\""
   ]
  },
  {
   "cell_type": "code",
   "execution_count": 252,
   "metadata": {},
   "outputs": [
    {
     "data": {
      "text/html": [
       "<div>\n",
       "<style scoped>\n",
       "    .dataframe tbody tr th:only-of-type {\n",
       "        vertical-align: middle;\n",
       "    }\n",
       "\n",
       "    .dataframe tbody tr th {\n",
       "        vertical-align: top;\n",
       "    }\n",
       "\n",
       "    .dataframe thead th {\n",
       "        text-align: right;\n",
       "    }\n",
       "</style>\n",
       "<table border=\"1\" class=\"dataframe\">\n",
       "  <thead>\n",
       "    <tr style=\"text-align: right;\">\n",
       "      <th></th>\n",
       "      <th>Sr No.</th>\n",
       "      <th>Utterance</th>\n",
       "      <th>Speaker</th>\n",
       "      <th>Emotion</th>\n",
       "      <th>Sentiment</th>\n",
       "      <th>Dialogue_ID</th>\n",
       "      <th>Utterance_ID</th>\n",
       "      <th>Season</th>\n",
       "      <th>Episode</th>\n",
       "      <th>StartTime</th>\n",
       "      <th>EndTime</th>\n",
       "      <th>filename</th>\n",
       "    </tr>\n",
       "  </thead>\n",
       "  <tbody>\n",
       "    <tr>\n",
       "      <th>0</th>\n",
       "      <td>1</td>\n",
       "      <td>Oh my God, hes lost it. Hes totally lost it.</td>\n",
       "      <td>Phoebe</td>\n",
       "      <td>sadness</td>\n",
       "      <td>negative</td>\n",
       "      <td>0</td>\n",
       "      <td>0</td>\n",
       "      <td>4</td>\n",
       "      <td>7</td>\n",
       "      <td>00:20:57,256</td>\n",
       "      <td>00:21:00,049</td>\n",
       "      <td>/raid/amana/lavish_multi_model/emotion_detecti...</td>\n",
       "    </tr>\n",
       "    <tr>\n",
       "      <th>1</th>\n",
       "      <td>2</td>\n",
       "      <td>What?</td>\n",
       "      <td>Monica</td>\n",
       "      <td>surprise</td>\n",
       "      <td>negative</td>\n",
       "      <td>0</td>\n",
       "      <td>1</td>\n",
       "      <td>4</td>\n",
       "      <td>7</td>\n",
       "      <td>00:21:01,927</td>\n",
       "      <td>00:21:03,261</td>\n",
       "      <td>/raid/amana/lavish_multi_model/emotion_detecti...</td>\n",
       "    </tr>\n",
       "    <tr>\n",
       "      <th>2</th>\n",
       "      <td>3</td>\n",
       "      <td>Or! Or, we could go to the bank, close our acc...</td>\n",
       "      <td>Ross</td>\n",
       "      <td>neutral</td>\n",
       "      <td>neutral</td>\n",
       "      <td>1</td>\n",
       "      <td>0</td>\n",
       "      <td>4</td>\n",
       "      <td>4</td>\n",
       "      <td>00:12:24,660</td>\n",
       "      <td>00:12:30,915</td>\n",
       "      <td>/raid/amana/lavish_multi_model/emotion_detecti...</td>\n",
       "    </tr>\n",
       "    <tr>\n",
       "      <th>3</th>\n",
       "      <td>4</td>\n",
       "      <td>Youre a genius!</td>\n",
       "      <td>Chandler</td>\n",
       "      <td>joy</td>\n",
       "      <td>positive</td>\n",
       "      <td>1</td>\n",
       "      <td>1</td>\n",
       "      <td>4</td>\n",
       "      <td>4</td>\n",
       "      <td>00:12:32,334</td>\n",
       "      <td>00:12:33,960</td>\n",
       "      <td>/raid/amana/lavish_multi_model/emotion_detecti...</td>\n",
       "    </tr>\n",
       "    <tr>\n",
       "      <th>4</th>\n",
       "      <td>5</td>\n",
       "      <td>Aww, man, now we wont be bank buddies!</td>\n",
       "      <td>Joey</td>\n",
       "      <td>sadness</td>\n",
       "      <td>negative</td>\n",
       "      <td>1</td>\n",
       "      <td>2</td>\n",
       "      <td>4</td>\n",
       "      <td>4</td>\n",
       "      <td>00:12:34,211</td>\n",
       "      <td>00:12:37,505</td>\n",
       "      <td>/raid/amana/lavish_multi_model/emotion_detecti...</td>\n",
       "    </tr>\n",
       "  </tbody>\n",
       "</table>\n",
       "</div>"
      ],
      "text/plain": [
       "   Sr No.                                          Utterance   Speaker  \\\n",
       "0       1     Oh my God, hes lost it. Hes totally lost it.    Phoebe   \n",
       "1       2                                              What?    Monica   \n",
       "2       3  Or! Or, we could go to the bank, close our acc...      Ross   \n",
       "3       4                                   Youre a genius!  Chandler   \n",
       "4       5            Aww, man, now we wont be bank buddies!      Joey   \n",
       "\n",
       "    Emotion Sentiment  Dialogue_ID  Utterance_ID  Season  Episode  \\\n",
       "0   sadness  negative            0             0       4        7   \n",
       "1  surprise  negative            0             1       4        7   \n",
       "2   neutral   neutral            1             0       4        4   \n",
       "3       joy  positive            1             1       4        4   \n",
       "4   sadness  negative            1             2       4        4   \n",
       "\n",
       "      StartTime       EndTime  \\\n",
       "0  00:20:57,256  00:21:00,049   \n",
       "1  00:21:01,927  00:21:03,261   \n",
       "2  00:12:24,660  00:12:30,915   \n",
       "3  00:12:32,334  00:12:33,960   \n",
       "4  00:12:34,211  00:12:37,505   \n",
       "\n",
       "                                            filename  \n",
       "0  /raid/amana/lavish_multi_model/emotion_detecti...  \n",
       "1  /raid/amana/lavish_multi_model/emotion_detecti...  \n",
       "2  /raid/amana/lavish_multi_model/emotion_detecti...  \n",
       "3  /raid/amana/lavish_multi_model/emotion_detecti...  \n",
       "4  /raid/amana/lavish_multi_model/emotion_detecti...  "
      ]
     },
     "execution_count": 252,
     "metadata": {},
     "output_type": "execute_result"
    }
   ],
   "source": [
    "df = pd.read_csv(\"/raid/amana/lavish_multi_model/emotion_detection/data/text_data.csv\")\n",
    "df['filename'] = [f'{audio_dir}dia{a}_utt{b}.wav' for a,b in zip(df['Dialogue_ID'],df['Utterance_ID'])]\n",
    "df.head()"
   ]
  },
  {
   "cell_type": "code",
   "execution_count": 253,
   "metadata": {},
   "outputs": [
    {
     "name": "stdout",
     "output_type": "stream",
     "text": [
      "Step 0: 1109\n",
      "Step 1: 1109\n"
     ]
    },
    {
     "data": {
      "text/html": [
       "<div>\n",
       "<style scoped>\n",
       "    .dataframe tbody tr th:only-of-type {\n",
       "        vertical-align: middle;\n",
       "    }\n",
       "\n",
       "    .dataframe tbody tr th {\n",
       "        vertical-align: top;\n",
       "    }\n",
       "\n",
       "    .dataframe thead th {\n",
       "        text-align: right;\n",
       "    }\n",
       "</style>\n",
       "<table border=\"1\" class=\"dataframe\">\n",
       "  <thead>\n",
       "    <tr style=\"text-align: right;\">\n",
       "      <th></th>\n",
       "      <th>Sr No.</th>\n",
       "      <th>Utterance</th>\n",
       "      <th>Speaker</th>\n",
       "      <th>Emotion</th>\n",
       "      <th>Sentiment</th>\n",
       "      <th>Dialogue_ID</th>\n",
       "      <th>Utterance_ID</th>\n",
       "      <th>Season</th>\n",
       "      <th>Episode</th>\n",
       "      <th>StartTime</th>\n",
       "      <th>EndTime</th>\n",
       "      <th>filename</th>\n",
       "    </tr>\n",
       "  </thead>\n",
       "  <tbody>\n",
       "    <tr>\n",
       "      <th>0</th>\n",
       "      <td>6</td>\n",
       "      <td>Now, theres two reasons.</td>\n",
       "      <td>Chandler</td>\n",
       "      <td>neutral</td>\n",
       "      <td>neutral</td>\n",
       "      <td>1</td>\n",
       "      <td>3</td>\n",
       "      <td>4</td>\n",
       "      <td>4</td>\n",
       "      <td>00:12:38,466</td>\n",
       "      <td>00:12:39,841</td>\n",
       "      <td>/raid/amana/lavish_multi_model/emotion_detecti...</td>\n",
       "    </tr>\n",
       "    <tr>\n",
       "      <th>1</th>\n",
       "      <td>1119</td>\n",
       "      <td>Ugh, how can you even ask that question?!</td>\n",
       "      <td>Rachel</td>\n",
       "      <td>surprise</td>\n",
       "      <td>positive</td>\n",
       "      <td>107</td>\n",
       "      <td>3</td>\n",
       "      <td>6</td>\n",
       "      <td>20</td>\n",
       "      <td>0:02:45,501</td>\n",
       "      <td>0:02:48,182</td>\n",
       "      <td>/raid/amana/lavish_multi_model/emotion_detecti...</td>\n",
       "    </tr>\n",
       "    <tr>\n",
       "      <th>2</th>\n",
       "      <td>758</td>\n",
       "      <td>Yeah! You can hook it up to your TV</td>\n",
       "      <td>Rachel</td>\n",
       "      <td>joy</td>\n",
       "      <td>positive</td>\n",
       "      <td>71</td>\n",
       "      <td>4</td>\n",
       "      <td>7</td>\n",
       "      <td>13</td>\n",
       "      <td>00:13:26,514</td>\n",
       "      <td>00:13:29,015</td>\n",
       "      <td>/raid/amana/lavish_multi_model/emotion_detecti...</td>\n",
       "    </tr>\n",
       "    <tr>\n",
       "      <th>3</th>\n",
       "      <td>104</td>\n",
       "      <td>Come on man!  Listen so uh, are you gonna sque...</td>\n",
       "      <td>Joey</td>\n",
       "      <td>joy</td>\n",
       "      <td>positive</td>\n",
       "      <td>10</td>\n",
       "      <td>3</td>\n",
       "      <td>5</td>\n",
       "      <td>20</td>\n",
       "      <td>00:07:01,254</td>\n",
       "      <td>00:07:07,342</td>\n",
       "      <td>/raid/amana/lavish_multi_model/emotion_detecti...</td>\n",
       "    </tr>\n",
       "    <tr>\n",
       "      <th>4</th>\n",
       "      <td>1107</td>\n",
       "      <td>Yknow what Greg?</td>\n",
       "      <td>Monica</td>\n",
       "      <td>anger</td>\n",
       "      <td>negative</td>\n",
       "      <td>105</td>\n",
       "      <td>10</td>\n",
       "      <td>8</td>\n",
       "      <td>4</td>\n",
       "      <td>00:22:03,488</td>\n",
       "      <td>00:22:04,947</td>\n",
       "      <td>/raid/amana/lavish_multi_model/emotion_detecti...</td>\n",
       "    </tr>\n",
       "  </tbody>\n",
       "</table>\n",
       "</div>"
      ],
      "text/plain": [
       "   Sr No.                                          Utterance   Speaker  \\\n",
       "0       6                          Now, theres two reasons.  Chandler   \n",
       "1    1119          Ugh, how can you even ask that question?!    Rachel   \n",
       "2     758                Yeah! You can hook it up to your TV    Rachel   \n",
       "3     104  Come on man!  Listen so uh, are you gonna sque...      Joey   \n",
       "4    1107                                  Yknow what Greg?    Monica   \n",
       "\n",
       "    Emotion Sentiment  Dialogue_ID  Utterance_ID  Season  Episode  \\\n",
       "0   neutral   neutral            1             3       4        4   \n",
       "1  surprise  positive          107             3       6       20   \n",
       "2       joy  positive           71             4       7       13   \n",
       "3       joy  positive           10             3       5       20   \n",
       "4     anger  negative          105            10       8        4   \n",
       "\n",
       "      StartTime       EndTime  \\\n",
       "0  00:12:38,466  00:12:39,841   \n",
       "1   0:02:45,501   0:02:48,182   \n",
       "2  00:13:26,514  00:13:29,015   \n",
       "3  00:07:01,254  00:07:07,342   \n",
       "4  00:22:03,488  00:22:04,947   \n",
       "\n",
       "                                            filename  \n",
       "0  /raid/amana/lavish_multi_model/emotion_detecti...  \n",
       "1  /raid/amana/lavish_multi_model/emotion_detecti...  \n",
       "2  /raid/amana/lavish_multi_model/emotion_detecti...  \n",
       "3  /raid/amana/lavish_multi_model/emotion_detecti...  \n",
       "4  /raid/amana/lavish_multi_model/emotion_detecti...  "
      ]
     },
     "execution_count": 253,
     "metadata": {},
     "output_type": "execute_result"
    }
   ],
   "source": [
    "print(f\"Step 0: {len(df)}\")\n",
    "df[\"status\"] = df[\"filename\"].apply(lambda path: True if os.path.exists(path) else None)\n",
    "df = df.dropna(subset=[\"filename\"])\n",
    "df = df.drop(\"status\", 1)\n",
    "print(f\"Step 1: {len(df)}\")\n",
    "df = df.sample(frac=1)\n",
    "df = df.reset_index(drop=True)\n",
    "df.head()"
   ]
  },
  {
   "cell_type": "code",
   "execution_count": 254,
   "metadata": {},
   "outputs": [
    {
     "name": "stdout",
     "output_type": "stream",
     "text": [
      "Labels:  ['neutral' 'surprise' 'joy' 'anger' 'fear' 'sadness' 'disgust']\n",
      "\n"
     ]
    },
    {
     "data": {
      "text/html": [
       "<div>\n",
       "<style scoped>\n",
       "    .dataframe tbody tr th:only-of-type {\n",
       "        vertical-align: middle;\n",
       "    }\n",
       "\n",
       "    .dataframe tbody tr th {\n",
       "        vertical-align: top;\n",
       "    }\n",
       "\n",
       "    .dataframe thead th {\n",
       "        text-align: right;\n",
       "    }\n",
       "</style>\n",
       "<table border=\"1\" class=\"dataframe\">\n",
       "  <thead>\n",
       "    <tr style=\"text-align: right;\">\n",
       "      <th></th>\n",
       "      <th>filename</th>\n",
       "    </tr>\n",
       "    <tr>\n",
       "      <th>Emotion</th>\n",
       "      <th></th>\n",
       "    </tr>\n",
       "  </thead>\n",
       "  <tbody>\n",
       "    <tr>\n",
       "      <th>anger</th>\n",
       "      <td>153</td>\n",
       "    </tr>\n",
       "    <tr>\n",
       "      <th>disgust</th>\n",
       "      <td>22</td>\n",
       "    </tr>\n",
       "    <tr>\n",
       "      <th>fear</th>\n",
       "      <td>40</td>\n",
       "    </tr>\n",
       "    <tr>\n",
       "      <th>joy</th>\n",
       "      <td>163</td>\n",
       "    </tr>\n",
       "    <tr>\n",
       "      <th>neutral</th>\n",
       "      <td>470</td>\n",
       "    </tr>\n",
       "    <tr>\n",
       "      <th>sadness</th>\n",
       "      <td>111</td>\n",
       "    </tr>\n",
       "    <tr>\n",
       "      <th>surprise</th>\n",
       "      <td>150</td>\n",
       "    </tr>\n",
       "  </tbody>\n",
       "</table>\n",
       "</div>"
      ],
      "text/plain": [
       "          filename\n",
       "Emotion           \n",
       "anger          153\n",
       "disgust         22\n",
       "fear            40\n",
       "joy            163\n",
       "neutral        470\n",
       "sadness        111\n",
       "surprise       150"
      ]
     },
     "execution_count": 254,
     "metadata": {},
     "output_type": "execute_result"
    }
   ],
   "source": [
    "print(\"Labels: \", df[\"Emotion\"].unique())\n",
    "print()\n",
    "df.groupby(\"Emotion\").count()[[\"filename\"]]"
   ]
  },
  {
   "cell_type": "code",
   "execution_count": 299,
   "metadata": {},
   "outputs": [
    {
     "name": "stdout",
     "output_type": "stream",
     "text": [
      "(887, 13)\n",
      "(222, 13)\n"
     ]
    }
   ],
   "source": [
    "save_path = \"/raid/amana/lavish_multi_model/emotion_detection/data/\"\n",
    "\n",
    "train_df, test_df = train_test_split(df, test_size=0.2, random_state=101, stratify=df[\"Emotion\"])\n",
    "\n",
    "train_df = train_df.reset_index(drop=True)\n",
    "random_float_array = np.random.uniform(7, 10.0, len(train_df.Emotion))\n",
    "train_df[\"emotion\"] = train_df['Emotion']\n",
    "train_df['Emotion'] = random_float_array.round(2)\n",
    "train_df = train_df.rename(columns={\"Emotion\":\"values\"})\n",
    "\n",
    "test_df = test_df.reset_index(drop=True)\n",
    "random_float_array = np.random.uniform(7, 10.0, len(test_df.Emotion))\n",
    "test_df[\"emotion\"] = test_df['Emotion']\n",
    "test_df['Emotion'] = random_float_array.round(2)\n",
    "test_df = test_df.rename(columns={\"Emotion\":\"values\"})\n",
    "\n",
    "train_df.to_csv(f\"{save_path}/train.csv\", sep=\"\\t\", encoding=\"utf-8\", index=False)\n",
    "test_df.to_csv(f\"{save_path}/test.csv\", sep=\"\\t\", encoding=\"utf-8\", index=False)\n",
    "\n",
    "\n",
    "print(train_df.shape)\n",
    "print(test_df.shape)"
   ]
  },
  {
   "cell_type": "code",
   "execution_count": 300,
   "metadata": {},
   "outputs": [
    {
     "name": "stderr",
     "output_type": "stream",
     "text": [
      "Some weights of the model checkpoint at facebook/wav2vec2-base-960h were not used when initializing Wav2Vec2Model: ['lm_head.bias', 'lm_head.weight']\n",
      "- This IS expected if you are initializing Wav2Vec2Model from the checkpoint of a model trained on another task or with another architecture (e.g. initializing a BertForSequenceClassification model from a BertForPreTraining model).\n",
      "- This IS NOT expected if you are initializing Wav2Vec2Model from the checkpoint of a model that you expect to be exactly identical (initializing a BertForSequenceClassification model from a BertForSequenceClassification model).\n",
      "Some weights of Wav2Vec2Model were not initialized from the model checkpoint at facebook/wav2vec2-base-960h and are newly initialized: ['wav2vec2.masked_spec_embed']\n",
      "You should probably TRAIN this model on a down-stream task to be able to use it for predictions and inference.\n"
     ]
    }
   ],
   "source": [
    "from transformers import AutoProcessor, Wav2Vec2Model\n",
    "\n",
    "processor = AutoProcessor.from_pretrained(\"facebook/wav2vec2-base-960h\")\n",
    "model = Wav2Vec2Model.from_pretrained(\"facebook/wav2vec2-base-960h\").to(device)"
   ]
  },
  {
   "cell_type": "code",
   "execution_count": 301,
   "metadata": {},
   "outputs": [],
   "source": [
    "import numpy as np \n",
    "import soundfile as sf\n",
    "import librosa\n",
    "\n",
    "\n",
    "def getVggoud_proc(filename):\n",
    "    audio_length = 1.5\n",
    "    idx=0\n",
    "    samples, samplerate = librosa.load(filename)\n",
    "\n",
    "    if samples.shape[0] > 16000*(audio_length+0.1):\n",
    "        sample_indx = np.linspace(0, samples.shape[0]-16000*(audio_length+0.1), num=1, dtype=int)\n",
    "        samples = samples[sample_indx[idx]:sample_indx[idx]+int(16000*audio_length)]\n",
    "    else:\n",
    "        samples = np.tile(samples,int(audio_length))[:int(16000*audio_length)]\n",
    "\n",
    "    samples[samples > 1.] = 1\n",
    "    samples[samples < -1.] = -1\n",
    "    \n",
    "    return samples\n",
    "\n",
    "def resample_audio(arr,sr):\n",
    "    return librosa.util.fix_length(arr, size=sr)"
   ]
  },
  {
   "cell_type": "code",
   "execution_count": 302,
   "metadata": {},
   "outputs": [],
   "source": [
    "def get_dataset_classification(df):\n",
    "    emotion_label = {'anger' : 1, 'disgust' : 2, 'fear' : 3,\n",
    "                 'joy' : 4, 'neutral' : 5, 'sadness' : 6, 'surprise' : 0}\n",
    "    labels = list(df['emotion'])\n",
    "    onlyfiles = list(df['filename'])\n",
    "    res = []\n",
    "    shapes = []\n",
    "    for a,label in zip(onlyfiles,labels):\n",
    "        try:\n",
    "            res1 = getVggoud_proc(a)\n",
    "            shapes.append(res1.shape)\n",
    "            res.append([res1,label])\n",
    "        except:\n",
    "            continue\n",
    "    shapes = np.array(shapes)\n",
    "    true_shapes = shapes>5000\n",
    "    res = [a for a,b in zip(res,true_shapes) if b[0] == True]\n",
    "    final_len = 16000\n",
    "    final_dataset = [[resample_audio(a[0],final_len),emotion_label[a[1]]] for a in res]\n",
    "    return final_dataset\n",
    "\n",
    "def get_dataset_regression(df):\n",
    "    labels = list(df['values'])\n",
    "    onlyfiles = list(df['filename'])\n",
    "    res = []\n",
    "    shapes = []\n",
    "    for a,label in zip(onlyfiles,labels):\n",
    "        try:\n",
    "            res1 = getVggoud_proc(a)\n",
    "            shapes.append(res1.shape)\n",
    "            res.append([res1,label])\n",
    "        except:\n",
    "            continue\n",
    "    shapes = np.array(shapes)\n",
    "    true_shapes = shapes>5000\n",
    "    res = [a for a,b in zip(res,true_shapes) if b[0] == True]\n",
    "    final_len = 16000\n",
    "    final_dataset = [[resample_audio(a[0],final_len),a[1]] for a in res]\n",
    "    return final_dataset\n"
   ]
  },
  {
   "cell_type": "code",
   "execution_count": 303,
   "metadata": {},
   "outputs": [
    {
     "data": {
      "text/plain": [
       "0      7.91\n",
       "1      7.45\n",
       "2      8.39\n",
       "3      8.06\n",
       "4      8.37\n",
       "       ... \n",
       "217    7.96\n",
       "218    9.39\n",
       "219    7.67\n",
       "220    8.39\n",
       "221    7.81\n",
       "Name: values, Length: 222, dtype: float64"
      ]
     },
     "execution_count": 303,
     "metadata": {},
     "output_type": "execute_result"
    }
   ],
   "source": [
    "test_df['values']"
   ]
  },
  {
   "cell_type": "code",
   "execution_count": 304,
   "metadata": {},
   "outputs": [],
   "source": [
    "train_dataset = get_dataset_regression(train_df)\n",
    "test_dataset = get_dataset_regression(test_df)"
   ]
  },
  {
   "cell_type": "code",
   "execution_count": 305,
   "metadata": {},
   "outputs": [
    {
     "name": "stderr",
     "output_type": "stream",
     "text": [
      "Some weights of the model checkpoint at facebook/wav2vec2-base-960h were not used when initializing Wav2Vec2Model: ['lm_head.bias', 'lm_head.weight']\n",
      "- This IS expected if you are initializing Wav2Vec2Model from the checkpoint of a model trained on another task or with another architecture (e.g. initializing a BertForSequenceClassification model from a BertForPreTraining model).\n",
      "- This IS NOT expected if you are initializing Wav2Vec2Model from the checkpoint of a model that you expect to be exactly identical (initializing a BertForSequenceClassification model from a BertForSequenceClassification model).\n",
      "Some weights of Wav2Vec2Model were not initialized from the model checkpoint at facebook/wav2vec2-base-960h and are newly initialized: ['wav2vec2.masked_spec_embed']\n",
      "You should probably TRAIN this model on a down-stream task to be able to use it for predictions and inference.\n"
     ]
    }
   ],
   "source": [
    "from transformers import AutoProcessor, Wav2Vec2Model\n",
    "\n",
    "processor = AutoProcessor.from_pretrained(\"facebook/wav2vec2-base-960h\")\n",
    "model = Wav2Vec2Model.from_pretrained(\"facebook/wav2vec2-base-960h\").to(device)"
   ]
  },
  {
   "cell_type": "code",
   "execution_count": 306,
   "metadata": {},
   "outputs": [],
   "source": [
    "def get_final_dataset(dataset):\n",
    "    final_dataset = []\n",
    "    for a in dataset:\n",
    "        inputs = processor(a[0], sampling_rate=16000, return_tensors=\"pt\").to(device)\n",
    "        with t.no_grad():\n",
    "            outputs = model(**inputs).extract_features\n",
    "            final_dataset.append([outputs.squeeze(0),a[1]])\n",
    "    return final_dataset"
   ]
  },
  {
   "cell_type": "code",
   "execution_count": 307,
   "metadata": {},
   "outputs": [],
   "source": [
    "train_dataset1 = get_final_dataset(train_dataset)"
   ]
  },
  {
   "cell_type": "code",
   "execution_count": 308,
   "metadata": {},
   "outputs": [],
   "source": [
    "test_dataset1 = get_final_dataset(test_dataset)"
   ]
  },
  {
   "cell_type": "code",
   "execution_count": 309,
   "metadata": {},
   "outputs": [],
   "source": [
    "train_dataloader = DataLoader(train_dataset1, batch_size=1, shuffle=True)\n",
    "test_dataloader = DataLoader(test_dataset1, batch_size=1,shuffle=False)"
   ]
  },
  {
   "cell_type": "code",
   "execution_count": 310,
   "metadata": {},
   "outputs": [],
   "source": [
    "t.save(train_dataloader.dataset, 'wave2_vec_diff_reg_data_train_dataset.pth')\n",
    "\n",
    "# Save the testing DataLoader\n",
    "t.save(test_dataloader.dataset, 'wave2_vec_diff_reg_data_test_dataset.pth')"
   ]
  },
  {
   "cell_type": "code",
   "execution_count": 311,
   "metadata": {},
   "outputs": [],
   "source": [
    "t.cuda.set_device(8)\n",
    "device = t.device('cuda' if t.cuda.is_available() else 'cpu')"
   ]
  },
  {
   "cell_type": "code",
   "execution_count": 312,
   "metadata": {},
   "outputs": [],
   "source": [
    "class EmotionMLP_cls(nn.Module):\n",
    "    def softmax(self,x):\n",
    "        e_x = t.exp(x - t.max(x))\n",
    "        return e_x / e_x.sum()\n",
    "    \n",
    "    def __init__(self, num_classes):\n",
    "        super(EmotionMLP_cls, self).__init__()\n",
    "        self.input_matrix = nn.Parameter(t.rand(49,1))\n",
    "        self.fc1 = nn.Linear(512,64)\n",
    "        self.fc2 = nn.Linear(64, 1)\n",
    "\n",
    "    \n",
    "    def forward(self, x):\n",
    "        x = t.matmul(x.t(),self.input_matrix)\n",
    "        x = x.view(-1, 512)\n",
    "        x = t.relu(self.fc1(x))\n",
    "        x = t.relu(self.fc2(x))\n",
    "        x = t.sigmoid(x)\n",
    "        return x\n",
    "    \n",
    "class EmotionMLP_reg(nn.Module):\n",
    "    def softmax(self,x):\n",
    "        e_x = t.exp(x - t.max(x))\n",
    "        return e_x / e_x.sum()\n",
    "    \n",
    "    def __init__(self):\n",
    "        super(EmotionMLP_reg, self).__init__()\n",
    "        self.input_matrix = nn.Parameter(t.rand(49,1))\n",
    "        self.fc1 = nn.Linear(512,32)\n",
    "        self.fc2 = nn.Linear(32, 1)\n",
    "\n",
    "    \n",
    "    def forward(self, x):\n",
    "        x = t.matmul(x.t(),self.input_matrix)\n",
    "        x = x.view(-1, 512)\n",
    "        x = t.relu(self.fc1(x))\n",
    "        x = t.relu(self.fc2(x)).double()\n",
    "        return x"
   ]
  },
  {
   "cell_type": "code",
   "execution_count": 313,
   "metadata": {},
   "outputs": [
    {
     "data": {
      "text/plain": [
       "tensor([[0.]], device='cuda:8', dtype=torch.float64, grad_fn=<CopyBackwards>)"
      ]
     },
     "execution_count": 313,
     "metadata": {},
     "output_type": "execute_result"
    }
   ],
   "source": [
    "model = EmotionMLP_reg().to(device)\n",
    "\n",
    "x = t.rand(49,512)\n",
    "model(x.to(device))"
   ]
  },
  {
   "cell_type": "code",
   "execution_count": 314,
   "metadata": {},
   "outputs": [],
   "source": [
    "model = EmotionMLP_reg().to(device)\n",
    "\n",
    "criterion = nn.MSELoss()\n",
    "optimizer = t.optim.Adam(model.parameters(), lr=0.0001)"
   ]
  },
  {
   "cell_type": "code",
   "execution_count": 315,
   "metadata": {},
   "outputs": [],
   "source": [
    "def plot_loss(lossarr,epochs):\n",
    "    plt.plot(range(1,epochs+1),lossarr)\n",
    "    plt.xlabel('epochs')\n",
    "    plt.ylabel('loss')\n",
    "    plt.show()"
   ]
  },
  {
   "cell_type": "code",
   "execution_count": 316,
   "metadata": {},
   "outputs": [],
   "source": [
    "def test(model,test_loader,device):\n",
    "    \n",
    "    def accuracy1(y_true, y_pred):\n",
    "        eq = t.eq(y_true, y_pred).int()\n",
    "        return sum(eq)/len(eq)\n",
    "    def mean_absolute_percentage_error(y_true, y_pred):\n",
    "        # print(y_true,y_pred)\n",
    "        return t.mean(t.abs((y_true - y_pred) / y_true))*100\n",
    "    \n",
    "    acc = 0\n",
    "    mape = 0\n",
    "    with t.no_grad():\n",
    "        model.eval()\n",
    "        for x,y in test_loader:\n",
    "            x = x.squeeze(0)\n",
    "            outputs = model(x.to(device))\n",
    "            outputs1 = outputs.detach().cpu()\n",
    "            mape += mean_absolute_percentage_error(t.tensor([y]),outputs1)\n",
    "        print(f\"mape: {((mape/len(test_loader)))}\")"
   ]
  },
  {
   "cell_type": "code",
   "execution_count": 317,
   "metadata": {},
   "outputs": [
    {
     "name": "stderr",
     "output_type": "stream",
     "text": [
      "  0%|          | 0/50 [00:00<?, ?it/s]"
     ]
    },
    {
     "name": "stdout",
     "output_type": "stream",
     "text": [
      "Epoch 1/50, Training Loss: 4.437607669340425\n"
     ]
    },
    {
     "name": "stderr",
     "output_type": "stream",
     "text": [
      "  2%|▏         | 1/50 [00:05<04:19,  5.30s/it]"
     ]
    },
    {
     "name": "stdout",
     "output_type": "stream",
     "text": [
      "mape: 10.24863724485304\n"
     ]
    },
    {
     "name": "stderr",
     "output_type": "stream",
     "text": [
      "  6%|▌         | 3/50 [00:14<03:46,  4.82s/it]"
     ]
    }
   ],
   "source": [
    "def train(model,train_loader,optimizer,criterion,num_epochs,device):\n",
    "    loss_arr = []\n",
    "    for epoch in tqdm(range(num_epochs)):\n",
    "        # model.train()\n",
    "        total_loss = 0\n",
    "        for x,y in train_loader:\n",
    "            x = x.squeeze(0)\n",
    "            # Forward pass\n",
    "            outputs = model(x.to(device))\n",
    "            loss = criterion(outputs,t.tensor([y],dtype=float).to(device)).to(device)\n",
    "\n",
    "            # Backward pass and optimization\n",
    "            optimizer.zero_grad()\n",
    "            loss.backward()\n",
    "            optimizer.step()\n",
    "            total_loss += loss.item()\n",
    "        loss_arr.append(total_loss/len(train_loader))\n",
    "        \n",
    "        if epoch%5 == 0:\n",
    "            print(f'Epoch {epoch+1}/{num_epochs}, Training Loss: {total_loss/len(train_loader)}')\n",
    "            test(model,test_dataloader,device)\n",
    "    return loss_arr\n",
    "\n",
    "num_epochs = 50\n",
    "lossarr = train(model,train_dataloader,optimizer,criterion,num_epochs,device)"
   ]
  },
  {
   "cell_type": "code",
   "execution_count": null,
   "metadata": {},
   "outputs": [
    {
     "data": {
      "image/png": "[encoded data removed]",
      "text/plain": [
       "<Figure size 640x480 with 1 Axes>"
      ]
     },
     "metadata": {},
     "output_type": "display_data"
    }
   ],
   "source": [
    "plot_loss(lossarr,num_epochs)"
   ]
  },
  {
   "cell_type": "code",
   "execution_count": null,
   "metadata": {},
   "outputs": [],
   "source": [
    "from sklearn.metrics import mean_absolute_error\n",
    "\n",
    "def test(model,test_loader,device):\n",
    "    \n",
    "    def accuracy1(y_true, y_pred):\n",
    "        eq = t.eq(y_true, y_pred).int()\n",
    "        return sum(eq)/len(eq)\n",
    "    def mean_absolute_percentage_error(y_true, y_pred):\n",
    "        # print(y_true,y_pred)\n",
    "        return t.mean(t.abs((y_true - y_pred) / y_true))*100\n",
    "    \n",
    "    def MAE(y_true,y_pred):\n",
    "        y_true = y_true.detach().numpy()\n",
    "        y_pred = y_pred.detach().numpy()\n",
    "        return mean_absolute_error(y_true, y_pred)\n",
    "        \n",
    "    \n",
    "    acc = 0\n",
    "    mape = 0\n",
    "    mae = 0\n",
    "    with t.no_grad():\n",
    "        model.eval()\n",
    "        for x,y in test_loader:\n",
    "            x = x.squeeze(0)\n",
    "            outputs = model(x.to(device))\n",
    "            outputs1 = outputs.detach().cpu()\n",
    "            mape += mean_absolute_percentage_error(t.tensor([y]),outputs1)\n",
    "            mae += MAE(t.tensor([y]),outputs1)\n",
    "        print(f\"mape: {((mape/len(test_loader))) :0.2f}\")\n",
    "        print(f\"mae: {((mae/len(test_loader))) :0.2f}\")"
   ]
  },
  {
   "cell_type": "code",
   "execution_count": null,
   "metadata": {},
   "outputs": [
    {
     "name": "stdout",
     "output_type": "stream",
     "text": [
      "mape: 22.95\n",
      "mae: 1.98\n"
     ]
    }
   ],
   "source": [
    "test(model,test_dataloader,device)"
   ]
  },
  {
   "cell_type": "code",
   "execution_count": null,
   "metadata": {},
   "outputs": [],
   "source": []
  }
 ],
 "metadata": {
  "kernelspec": {
   "display_name": "lamol",
   "language": "python",
   "name": "python3"
  },
  "language_info": {
   "codemirror_mode": {
    "name": "ipython",
    "version": 3
   },
   "file_extension": ".py",
   "mimetype": "text/x-python",
   "name": "python",
   "nbconvert_exporter": "python",
   "pygments_lexer": "ipython3",
   "version": "3.8.16"
  }
 },
 "nbformat": 4,
 "nbformat_minor": 2
}
